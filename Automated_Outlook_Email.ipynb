{
 "cells": [
  {
   "cell_type": "markdown",
   "id": "d8577da7-558c-4aa9-8d15-761fabba5193",
   "metadata": {},
   "source": [
    "## Older Version"
   ]
  },
  {
   "cell_type": "code",
   "execution_count": 1,
   "id": "11be39be-b049-429d-a26e-f630742bd79a",
   "metadata": {},
   "outputs": [],
   "source": [
    "import pandas as pd\n",
    "import datetime"
   ]
  },
  {
   "cell_type": "code",
   "execution_count": 3,
   "id": "ee64d302-d33a-4447-bed4-504b4e941c8f",
   "metadata": {},
   "outputs": [],
   "source": [
    "import win32com.client\n",
    "outlook = win32com.client.Dispatch(\"Outlook.Application\")\n",
    "mail = outlook.CreateItem(0x0)\n",
    "titus_class = mail.UserProperties.Add(\"TITUSAutomatedClassification\",1)\n",
    "titus_class.Value = 'TLPropertyRoot=ABCDE;Classification=For internal use only; Registered to:My Companies;'\n",
    "mail.To = 'yash.sethi@mcgill.ca'\n",
    "mail.Subject = 'Test email'\n",
    "mail.Body = \" This is the first email drafted to test if the automated email works with outlook \"\n",
    "attachment = r\"C:\\Users\\hp\\Downloads\\AI Upskilling Roadmap by Aditya Sharma.pdf\"\n",
    "mail.Attachments.Add(attachment)\n",
    "mail.Send()"
   ]
  },
  {
   "cell_type": "markdown",
   "id": "577c6880-7c1b-450f-b66d-29dc305c06e7",
   "metadata": {},
   "source": [
    "# Older version with Confidentiality"
   ]
  },
  {
   "cell_type": "code",
   "execution_count": 2,
   "id": "9a56c23c-495f-4ac0-a567-70ea5ba3a116",
   "metadata": {},
   "outputs": [],
   "source": [
    "import win32com.client as win32\n",
    "from win32com.client import constants\n",
    "\n",
    "outlook = win32.Dispatch(\"Outlook.Application\")\n",
    "mail = outlook.CreateItem(0x0)  # olMailItem\n",
    "\n",
    "# --- TITUS / custom classification (keep your existing line) ---\n",
    "titus_class = mail.UserProperties.Add(\"TITUSAutomatedClassification\", 1)  # 1 = olText\n",
    "titus_class.Value = \"TLPropertyRoot=ABCDE;Classification=For internal use only; Registered to:My Companies;\"\n",
    "\n",
    "# --- Restricted / Internal controls ---\n",
    "mail.Sensitivity = constants.olConfidential           # Banner: \"Confidential\"\n",
    "try:\n",
    "    mail.Permission = constants.olDoNotForward        # IRM: prevents forward/print/copy (if enabled)\n",
    "except Exception:\n",
    "    # IRM not enabled in profile/tenant – message will still send as Confidential\n",
    "    pass\n",
    "\n",
    "# (Optional) add a subject tag many orgs key rules on\n",
    "subject_tag = \"[Restricted]\"\n",
    "# -------------- compose ----------------\n",
    "mail.To = \"yash.sethi@mcgill.ca\"\n",
    "mail.Subject = f\"{subject_tag} Test email\"\n",
    "mail.Body = (\n",
    "    \"This is the first email drafted to test if the automated email works with Outlook.\\n\"\n",
    "    \"Restricted: internal use only.\"\n",
    ")\n",
    "attachment = r\"C:\\Users\\hp\\Downloads\\AI Upskilling Roadmap by Aditya Sharma.pdf\"\n",
    "mail.Attachments.Add(attachment)\n",
    "\n",
    "mail.Send()\n"
   ]
  },
  {
   "cell_type": "markdown",
   "id": "4af99a66-9154-43ed-b8b9-cb71384c5148",
   "metadata": {},
   "source": [
    "## New Version"
   ]
  },
  {
   "cell_type": "markdown",
   "id": "95744d7e-355b-46c8-869f-f78c5033ab61",
   "metadata": {},
   "source": [
    "## Have added a Restricted access and reply to the existing thread (latest email)"
   ]
  },
  {
   "cell_type": "code",
   "execution_count": 14,
   "id": "976b4960-6c70-430a-82dc-2f961a503c62",
   "metadata": {},
   "outputs": [],
   "source": [
    "import datetime as dt\n",
    "import win32com.client as win32\n",
    "from win32com.client import constants\n",
    "\n",
    "def find_last_message_by_subject(ns, subject_hint, folder=\"Inbox\", since_days=30):\n",
    "    \"\"\"\n",
    "    Return the most recent MailItem in 'folder' whose Subject contains subject_hint.\n",
    "    folder can be \"Inbox\" or \"Sent Items\" or any visible subfolder under your default store.\n",
    "    \"\"\"\n",
    "    # Get the folder\n",
    "    if folder == \"Inbox\":\n",
    "        root = ns.GetDefaultFolder(constants.olFolderInbox)\n",
    "    elif folder == \"Sent Items\":\n",
    "        root = ns.GetDefaultFolder(constants.olFolderSentMail)\n",
    "    else:\n",
    "        # Try to resolve a custom folder under the default store\n",
    "        root = ns.GetDefaultFolder(constants.olFolderInbox).Parent.Folders[folder]\n",
    "\n",
    "    # Restrict to recent items (Outlook expects US mm/dd/yyyy hh:mm AM/PM)\n",
    "    cutoff = (dt.datetime.now() - dt.timedelta(days=since_days)).strftime(\"%m/%d/%Y %I:%M %p\")\n",
    "    items = root.Items\n",
    "    items = items.Restrict(f\"[SentOn] >= '{cutoff}' or [ReceivedTime] >= '{cutoff}'\")\n",
    "    items.Sort(\"[SentOn]\", True)\n",
    "\n",
    "    # Iterate newest → oldest, guard for non-mail items\n",
    "    hint_lower = subject_hint.lower()\n",
    "    for it in items:\n",
    "        try:\n",
    "            if getattr(it, \"Class\", None) == constants.olMail and hint_lower in ((it.Subject or \"\").lower()):\n",
    "                return it\n",
    "        except Exception:\n",
    "            continue\n",
    "    return None\n",
    "\n",
    "def reply_in_thread_with_attachment(subject_hint, attachment_path, reply_all=True, folder=\"Inbox\"):\n",
    "    outlook = win32.Dispatch(\"Outlook.Application\")\n",
    "    ns = outlook.Session\n",
    "\n",
    "    anchor = find_last_message_by_subject(ns, subject_hint=subject_hint, folder=folder, since_days=60)\n",
    "    if not anchor:\n",
    "        raise RuntimeError(f\"No recent message found containing subject: {subject_hint!r} in {folder!r}\")\n",
    "\n",
    "    reply = anchor.ReplyAll() if reply_all else anchor.Reply()\n",
    "\n",
    "    # Restricted / internal\n",
    "    reply.Sensitivity = constants.olConfidential\n",
    "    # try:\n",
    "    #     reply.Permission = constants.olDoNotForward  # Works only if IRM enabled\n",
    "    # except Exception:\n",
    "    #     pass\n",
    "\n",
    "    # Keep threading (RE: stays). Optional subject tag:\n",
    "    reply.Subject = f\"[Restricted] {reply.Subject}\"\n",
    "\n",
    "    # Short note above the quoted chain\n",
    "    reply.HTMLBody = \"<p>Attaching the latest report as discussed. Please keep internal.</p>\" + reply.HTMLBody\n",
    "\n",
    "    # TITUS property\n",
    "    titus = reply.UserProperties.Add(\"TITUSAutomatedClassification\", 1)  # 1 = olText\n",
    "    titus.Value = \"TLPropertyRoot=ABCDE;Classification=Restricted;Registered to:My Company;\"\n",
    "\n",
    "    # Attach\n",
    "    reply.Attachments.Add(attachment_path)\n",
    "\n",
    "    reply.Send()\n"
   ]
  },
  {
   "cell_type": "code",
   "execution_count": 15,
   "id": "237b840b-5c63-4c95-8604-1bba31d3cda1",
   "metadata": {},
   "outputs": [],
   "source": [
    "reply_in_thread_with_attachment(\n",
    "    subject_hint=\"Test email\",  # distinctive part of the thread subject\n",
    "    attachment_path=r\"C:\\Users\\hp\\Downloads\\AI Upskilling Roadmap by Aditya Sharma.pdf\",\n",
    "    reply_all=True,\n",
    "    folder=\"Tests\"  # or \"Sent Items\" if the anchor is there\n",
    ")\n"
   ]
  },
  {
   "cell_type": "code",
   "execution_count": null,
   "id": "c5ba3e72-8f4d-4f83-83bb-af565c4f41e9",
   "metadata": {},
   "outputs": [],
   "source": []
  },
  {
   "cell_type": "code",
   "execution_count": null,
   "id": "fd494849-dc0e-4080-973b-ce06d8d4bdee",
   "metadata": {},
   "outputs": [],
   "source": []
  }
 ],
 "metadata": {
  "kernelspec": {
   "display_name": "Python 3 (ipykernel)",
   "language": "python",
   "name": "python3"
  },
  "language_info": {
   "codemirror_mode": {
    "name": "ipython",
    "version": 3
   },
   "file_extension": ".py",
   "mimetype": "text/x-python",
   "name": "python",
   "nbconvert_exporter": "python",
   "pygments_lexer": "ipython3",
   "version": "3.8.10"
  }
 },
 "nbformat": 4,
 "nbformat_minor": 5
}
